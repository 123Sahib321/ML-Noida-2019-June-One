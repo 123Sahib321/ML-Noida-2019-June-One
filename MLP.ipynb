{
  "nbformat": 4,
  "nbformat_minor": 0,
  "metadata": {
    "colab": {
      "name": "MLP.ipynb",
      "version": "0.3.2",
      "provenance": [],
      "include_colab_link": true
    },
    "kernelspec": {
      "name": "python3",
      "display_name": "Python 3"
    }
  },
  "cells": [
    {
      "cell_type": "markdown",
      "metadata": {
        "id": "view-in-github",
        "colab_type": "text"
      },
      "source": [
        "<a href=\"https://colab.research.google.com/github/123Sahib321/ML-Noida-2019-June-One/blob/master/MLP.ipynb\" target=\"_parent\"><img src=\"https://colab.research.google.com/assets/colab-badge.svg\" alt=\"Open In Colab\"/></a>"
      ]
    },
    {
      "cell_type": "code",
      "metadata": {
        "id": "1rIpYOEkyV7H",
        "colab_type": "code",
        "colab": {}
      },
      "source": [
        "import keras\n",
        "from keras.layers import Dense\n",
        "from keras.models import Sequential\n",
        "from sklearn.datasets import make_circles\n",
        "from sklearn.model_selection import train_test_split\n",
        "import matplotlib.pyplot as plt\n",
        "from sklearn.preprocessing import OneHotEncoder\n",
        "import pandas as pd\n",
        "import numpy as np\n",
        "\n"
      ],
      "execution_count": 0,
      "outputs": []
    },
    {
      "cell_type": "code",
      "metadata": {
        "id": "QjHB8Kxvyaic",
        "colab_type": "code",
        "colab": {}
      },
      "source": [
        "X, y = make_circles(1000, factor=.3, noise =.1)"
      ],
      "execution_count": 0,
      "outputs": []
    },
    {
      "cell_type": "code",
      "metadata": {
        "id": "mNMXtxXX4FDT",
        "colab_type": "code",
        "colab": {}
      },
      "source": [
        "ohe = OneHotEncoder(categories=\"auto\")\n"
      ],
      "execution_count": 0,
      "outputs": []
    },
    {
      "cell_type": "code",
      "metadata": {
        "id": "sFCEVIOJ_AWQ",
        "colab_type": "code",
        "colab": {}
      },
      "source": [
        "\n",
        "data = pd.read_csv(\"sample_data/mnist_train_small.csv\").values\n",
        "data = np.array(data)"
      ],
      "execution_count": 0,
      "outputs": []
    },
    {
      "cell_type": "code",
      "metadata": {
        "id": "-gy6wZdQ_Akp",
        "colab_type": "code",
        "colab": {}
      },
      "source": [
        "A = data[:,1:]\n",
        "b = data[:,0]"
      ],
      "execution_count": 0,
      "outputs": []
    },
    {
      "cell_type": "code",
      "metadata": {
        "id": "HlNzTqrXCJ51",
        "colab_type": "code",
        "colab": {}
      },
      "source": [
        "A_train, A_test, b_train, b_test = train_test_split(\n",
        "...     A, b, test_size=0.33, random_state=42)"
      ],
      "execution_count": 0,
      "outputs": []
    },
    {
      "cell_type": "code",
      "metadata": {
        "id": "pk8-RkIiCJ8U",
        "colab_type": "code",
        "colab": {}
      },
      "source": [
        "b_hot = ohe.fit_transform(b.reshape(-1,1)).todense()"
      ],
      "execution_count": 0,
      "outputs": []
    },
    {
      "cell_type": "code",
      "metadata": {
        "id": "piEqjAw-CJ-b",
        "colab_type": "code",
        "colab": {}
      },
      "source": [
        "A_train, A_test, b_train, b_test = train_test_split(\n",
        "...     A, b_hot, test_size=0.33, random_state=42)"
      ],
      "execution_count": 0,
      "outputs": []
    },
    {
      "cell_type": "code",
      "metadata": {
        "id": "vwTnfAuhCKBy",
        "colab_type": "code",
        "colab": {}
      },
      "source": [
        ""
      ],
      "execution_count": 0,
      "outputs": []
    },
    {
      "cell_type": "code",
      "metadata": {
        "id": "qhC5q4jY7ghn",
        "colab_type": "code",
        "colab": {}
      },
      "source": [
        "y_hot = ohe.fit_transform(y.reshape(-1,1)).todense()"
      ],
      "execution_count": 0,
      "outputs": []
    },
    {
      "cell_type": "code",
      "metadata": {
        "id": "bOcajmiW87zf",
        "colab_type": "code",
        "colab": {}
      },
      "source": [
        "X_train, X_test, y_train, y_test = train_test_split(\n",
        "...     X, y_hot, test_size=0.33, random_state=42)"
      ],
      "execution_count": 0,
      "outputs": []
    },
    {
      "cell_type": "code",
      "metadata": {
        "id": "6qkgxRPM87_f",
        "colab_type": "code",
        "colab": {}
      },
      "source": [
        ""
      ],
      "execution_count": 0,
      "outputs": []
    },
    {
      "cell_type": "code",
      "metadata": {
        "id": "wgrRKKwl7gwu",
        "colab_type": "code",
        "colab": {
          "base_uri": "https://localhost:8080/",
          "height": 33
        },
        "outputId": "a0b83de1-7346-45d8-8cef-70c8ff123dcd"
      },
      "source": [
        "ohe.categories_"
      ],
      "execution_count": 45,
      "outputs": [
        {
          "output_type": "execute_result",
          "data": {
            "text/plain": [
              "[array([0, 1])]"
            ]
          },
          "metadata": {
            "tags": []
          },
          "execution_count": 45
        }
      ]
    },
    {
      "cell_type": "code",
      "metadata": {
        "id": "JSchPjNp0Kxx",
        "colab_type": "code",
        "colab": {
          "base_uri": "https://localhost:8080/",
          "height": 285
        },
        "outputId": "de04c52e-998b-4984-cadb-af78b8550bc1"
      },
      "source": [
        "plt.scatter(X[:,0],X[:,1] ,c = y)"
      ],
      "execution_count": 46,
      "outputs": [
        {
          "output_type": "execute_result",
          "data": {
            "text/plain": [
              "<matplotlib.collections.PathCollection at 0x7efdd732c358>"
            ]
          },
          "metadata": {
            "tags": []
          },
          "execution_count": 46
        },
        {
          "output_type": "display_data",
          "data": {
            "image/png": "[encoded data removed]",
            "text/plain": [
              "<Figure size 432x288 with 1 Axes>"
            ]
          },
          "metadata": {
            "tags": []
          }
        }
      ]
    },
    {
      "cell_type": "code",
      "metadata": {
        "id": "yi1up7lS1PiF",
        "colab_type": "code",
        "colab": {
          "base_uri": "https://localhost:8080/",
          "height": 199
        },
        "outputId": "21ee430f-94cf-4eba-952c-27e13b6e80db"
      },
      "source": [
        "model = Sequential()\n",
        "layer_1 = Dense(4 , activation = \"relu\",input_shape = [2])\n",
        "layer_2 = Dense(2 , activation = \"softmax\")\n",
        "model.add(layer_1)\n",
        "model.add(layer_2)\n",
        "model.summary()"
      ],
      "execution_count": 94,
      "outputs": [
        {
          "output_type": "stream",
          "text": [
            "_________________________________________________________________\n",
            "Layer (type)                 Output Shape              Param #   \n",
            "=================================================================\n",
            "dense_8 (Dense)              (None, 4)                 12        \n",
            "_________________________________________________________________\n",
            "dense_9 (Dense)              (None, 2)                 10        \n",
            "=================================================================\n",
            "Total params: 22\n",
            "Trainable params: 22\n",
            "Non-trainable params: 0\n",
            "_________________________________________________________________\n"
          ],
          "name": "stdout"
        }
      ]
    },
    {
      "cell_type": "code",
      "metadata": {
        "id": "QQLX6IVL2cSQ",
        "colab_type": "code",
        "colab": {}
      },
      "source": [
        "model.compile(optimizer = \"adam\", loss = \"categorical_crossentropy\" ,metrics = [\"accuracy\"])\n"
      ],
      "execution_count": 0,
      "outputs": []
    },
    {
      "cell_type": "code",
      "metadata": {
        "id": "UXOtCeeB4oof",
        "colab_type": "code",
        "colab": {
          "base_uri": "https://localhost:8080/",
          "height": 1000
        },
        "outputId": "74a7c46c-e7c4-4552-c0ab-256c8c8c19d8"
      },
      "source": [
        "model.fit(X_train , y_train,epochs = 40 , batch_size = 30)\n"
      ],
      "execution_count": 96,
      "outputs": [
        {
          "output_type": "stream",
          "text": [
            "Epoch 1/40\n",
            "670/670 [==============================] - 0s 346us/step - loss: 0.8168 - acc: 0.4806\n",
            "Epoch 2/40\n",
            "670/670 [==============================] - 0s 44us/step - loss: 0.7993 - acc: 0.3373\n",
            "Epoch 3/40\n",
            "670/670 [==============================] - 0s 44us/step - loss: 0.7851 - acc: 0.3537\n",
            "Epoch 4/40\n",
            "670/670 [==============================] - 0s 44us/step - loss: 0.7724 - acc: 0.4119\n",
            "Epoch 5/40\n",
            "670/670 [==============================] - 0s 51us/step - loss: 0.7620 - acc: 0.4433\n",
            "Epoch 6/40\n",
            "670/670 [==============================] - 0s 43us/step - loss: 0.7525 - acc: 0.4313\n",
            "Epoch 7/40\n",
            "670/670 [==============================] - 0s 48us/step - loss: 0.7441 - acc: 0.4239\n",
            "Epoch 8/40\n",
            "670/670 [==============================] - 0s 50us/step - loss: 0.7361 - acc: 0.4149\n",
            "Epoch 9/40\n",
            "670/670 [==============================] - 0s 44us/step - loss: 0.7285 - acc: 0.4030\n",
            "Epoch 10/40\n",
            "670/670 [==============================] - 0s 44us/step - loss: 0.7210 - acc: 0.3940\n",
            "Epoch 11/40\n",
            "670/670 [==============================] - 0s 50us/step - loss: 0.7136 - acc: 0.3806\n",
            "Epoch 12/40\n",
            "670/670 [==============================] - 0s 49us/step - loss: 0.7061 - acc: 0.3776\n",
            "Epoch 13/40\n",
            "670/670 [==============================] - 0s 55us/step - loss: 0.6986 - acc: 0.3791\n",
            "Epoch 14/40\n",
            "670/670 [==============================] - 0s 46us/step - loss: 0.6911 - acc: 0.3881\n",
            "Epoch 15/40\n",
            "670/670 [==============================] - 0s 56us/step - loss: 0.6835 - acc: 0.3851\n",
            "Epoch 16/40\n",
            "670/670 [==============================] - 0s 44us/step - loss: 0.6755 - acc: 0.3866\n",
            "Epoch 17/40\n",
            "670/670 [==============================] - 0s 47us/step - loss: 0.6674 - acc: 0.3955\n",
            "Epoch 18/40\n",
            "670/670 [==============================] - 0s 46us/step - loss: 0.6590 - acc: 0.4030\n",
            "Epoch 19/40\n",
            "670/670 [==============================] - 0s 48us/step - loss: 0.6505 - acc: 0.4179\n",
            "Epoch 20/40\n",
            "670/670 [==============================] - 0s 48us/step - loss: 0.6417 - acc: 0.4866\n",
            "Epoch 21/40\n",
            "670/670 [==============================] - 0s 44us/step - loss: 0.6330 - acc: 0.5343\n",
            "Epoch 22/40\n",
            "670/670 [==============================] - 0s 50us/step - loss: 0.6239 - acc: 0.5806\n",
            "Epoch 23/40\n",
            "670/670 [==============================] - 0s 51us/step - loss: 0.6147 - acc: 0.6224\n",
            "Epoch 24/40\n",
            "670/670 [==============================] - 0s 59us/step - loss: 0.6055 - acc: 0.6672\n",
            "Epoch 25/40\n",
            "670/670 [==============================] - 0s 50us/step - loss: 0.5961 - acc: 0.7045\n",
            "Epoch 26/40\n",
            "670/670 [==============================] - 0s 50us/step - loss: 0.5867 - acc: 0.7254\n",
            "Epoch 27/40\n",
            "670/670 [==============================] - 0s 51us/step - loss: 0.5774 - acc: 0.7537\n",
            "Epoch 28/40\n",
            "670/670 [==============================] - 0s 47us/step - loss: 0.5682 - acc: 0.7791\n",
            "Epoch 29/40\n",
            "670/670 [==============================] - 0s 43us/step - loss: 0.5589 - acc: 0.8000\n",
            "Epoch 30/40\n",
            "670/670 [==============================] - 0s 45us/step - loss: 0.5498 - acc: 0.8388\n",
            "Epoch 31/40\n",
            "670/670 [==============================] - 0s 48us/step - loss: 0.5405 - acc: 0.8612\n",
            "Epoch 32/40\n",
            "670/670 [==============================] - 0s 51us/step - loss: 0.5313 - acc: 0.8687\n",
            "Epoch 33/40\n",
            "670/670 [==============================] - 0s 52us/step - loss: 0.5222 - acc: 0.8821\n",
            "Epoch 34/40\n",
            "670/670 [==============================] - 0s 52us/step - loss: 0.5131 - acc: 0.8851\n",
            "Epoch 35/40\n",
            "670/670 [==============================] - 0s 47us/step - loss: 0.5040 - acc: 0.9015\n",
            "Epoch 36/40\n",
            "670/670 [==============================] - 0s 46us/step - loss: 0.4948 - acc: 0.9134\n",
            "Epoch 37/40\n",
            "670/670 [==============================] - 0s 52us/step - loss: 0.4858 - acc: 0.9134\n",
            "Epoch 38/40\n",
            "670/670 [==============================] - 0s 47us/step - loss: 0.4769 - acc: 0.9119\n",
            "Epoch 39/40\n",
            "670/670 [==============================] - 0s 45us/step - loss: 0.4678 - acc: 0.9224\n",
            "Epoch 40/40\n",
            "670/670 [==============================] - 0s 54us/step - loss: 0.4590 - acc: 0.9313\n"
          ],
          "name": "stdout"
        },
        {
          "output_type": "execute_result",
          "data": {
            "text/plain": [
              "<keras.callbacks.History at 0x7efdd1ca25f8>"
            ]
          },
          "metadata": {
            "tags": []
          },
          "execution_count": 96
        }
      ]
    },
    {
      "cell_type": "code",
      "metadata": {
        "id": "0kuash966NC0",
        "colab_type": "code",
        "colab": {
          "base_uri": "https://localhost:8080/",
          "height": 50
        },
        "outputId": "960fac3d-05ea-411b-afb0-27aee05fc3ba"
      },
      "source": [
        "model.evaluate(X_test , y_test)"
      ],
      "execution_count": 97,
      "outputs": [
        {
          "output_type": "stream",
          "text": [
            "330/330 [==============================] - 0s 198us/step\n"
          ],
          "name": "stdout"
        },
        {
          "output_type": "execute_result",
          "data": {
            "text/plain": [
              "[0.4532764839403557, 0.9181818181818182]"
            ]
          },
          "metadata": {
            "tags": []
          },
          "execution_count": 97
        }
      ]
    },
    {
      "cell_type": "code",
      "metadata": {
        "id": "gOXtNoIO9bdk",
        "colab_type": "code",
        "colab": {
          "base_uri": "https://localhost:8080/",
          "height": 301
        },
        "outputId": "c6da5eb1-498f-4acd-c55e-a30f24104aa9"
      },
      "source": [
        "model.fit(A_train , b_train,epochs = 40 , batch_size = 30)\n"
      ],
      "execution_count": 98,
      "outputs": [
        {
          "output_type": "error",
          "ename": "ValueError",
          "evalue": "ignored",
          "traceback": [
            "\u001b[0;31m---------------------------------------------------------------------------\u001b[0m",
            "\u001b[0;31mValueError\u001b[0m                                Traceback (most recent call last)",
            "\u001b[0;32m<ipython-input-98-514e18d74eee>\u001b[0m in \u001b[0;36m<module>\u001b[0;34m()\u001b[0m\n\u001b[0;32m----> 1\u001b[0;31m \u001b[0mmodel\u001b[0m\u001b[0;34m.\u001b[0m\u001b[0mfit\u001b[0m\u001b[0;34m(\u001b[0m\u001b[0mA_train\u001b[0m \u001b[0;34m,\u001b[0m \u001b[0mb_train\u001b[0m\u001b[0;34m,\u001b[0m\u001b[0mepochs\u001b[0m \u001b[0;34m=\u001b[0m \u001b[0;36m40\u001b[0m \u001b[0;34m,\u001b[0m \u001b[0mbatch_size\u001b[0m \u001b[0;34m=\u001b[0m \u001b[0;36m30\u001b[0m\u001b[0;34m)\u001b[0m\u001b[0;34m\u001b[0m\u001b[0;34m\u001b[0m\u001b[0m\n\u001b[0m",
            "\u001b[0;32m/usr/local/lib/python3.6/dist-packages/keras/engine/training.py\u001b[0m in \u001b[0;36mfit\u001b[0;34m(self, x, y, batch_size, epochs, verbose, callbacks, validation_split, validation_data, shuffle, class_weight, sample_weight, initial_epoch, steps_per_epoch, validation_steps, **kwargs)\u001b[0m\n\u001b[1;32m    950\u001b[0m             \u001b[0msample_weight\u001b[0m\u001b[0;34m=\u001b[0m\u001b[0msample_weight\u001b[0m\u001b[0;34m,\u001b[0m\u001b[0;34m\u001b[0m\u001b[0;34m\u001b[0m\u001b[0m\n\u001b[1;32m    951\u001b[0m             \u001b[0mclass_weight\u001b[0m\u001b[0;34m=\u001b[0m\u001b[0mclass_weight\u001b[0m\u001b[0;34m,\u001b[0m\u001b[0;34m\u001b[0m\u001b[0;34m\u001b[0m\u001b[0m\n\u001b[0;32m--> 952\u001b[0;31m             batch_size=batch_size)\n\u001b[0m\u001b[1;32m    953\u001b[0m         \u001b[0;31m# Prepare validation data.\u001b[0m\u001b[0;34m\u001b[0m\u001b[0;34m\u001b[0m\u001b[0;34m\u001b[0m\u001b[0m\n\u001b[1;32m    954\u001b[0m         \u001b[0mdo_validation\u001b[0m \u001b[0;34m=\u001b[0m \u001b[0;32mFalse\u001b[0m\u001b[0;34m\u001b[0m\u001b[0;34m\u001b[0m\u001b[0m\n",
            "\u001b[0;32m/usr/local/lib/python3.6/dist-packages/keras/engine/training.py\u001b[0m in \u001b[0;36m_standardize_user_data\u001b[0;34m(self, x, y, sample_weight, class_weight, check_array_lengths, batch_size)\u001b[0m\n\u001b[1;32m    749\u001b[0m             \u001b[0mfeed_input_shapes\u001b[0m\u001b[0;34m,\u001b[0m\u001b[0;34m\u001b[0m\u001b[0;34m\u001b[0m\u001b[0m\n\u001b[1;32m    750\u001b[0m             \u001b[0mcheck_batch_axis\u001b[0m\u001b[0;34m=\u001b[0m\u001b[0;32mFalse\u001b[0m\u001b[0;34m,\u001b[0m  \u001b[0;31m# Don't enforce the batch size.\u001b[0m\u001b[0;34m\u001b[0m\u001b[0;34m\u001b[0m\u001b[0m\n\u001b[0;32m--> 751\u001b[0;31m             exception_prefix='input')\n\u001b[0m\u001b[1;32m    752\u001b[0m \u001b[0;34m\u001b[0m\u001b[0m\n\u001b[1;32m    753\u001b[0m         \u001b[0;32mif\u001b[0m \u001b[0my\u001b[0m \u001b[0;32mis\u001b[0m \u001b[0;32mnot\u001b[0m \u001b[0;32mNone\u001b[0m\u001b[0;34m:\u001b[0m\u001b[0;34m\u001b[0m\u001b[0;34m\u001b[0m\u001b[0m\n",
            "\u001b[0;32m/usr/local/lib/python3.6/dist-packages/keras/engine/training_utils.py\u001b[0m in \u001b[0;36mstandardize_input_data\u001b[0;34m(data, names, shapes, check_batch_axis, exception_prefix)\u001b[0m\n\u001b[1;32m    136\u001b[0m                             \u001b[0;34m': expected '\u001b[0m \u001b[0;34m+\u001b[0m \u001b[0mnames\u001b[0m\u001b[0;34m[\u001b[0m\u001b[0mi\u001b[0m\u001b[0;34m]\u001b[0m \u001b[0;34m+\u001b[0m \u001b[0;34m' to have shape '\u001b[0m \u001b[0;34m+\u001b[0m\u001b[0;34m\u001b[0m\u001b[0;34m\u001b[0m\u001b[0m\n\u001b[1;32m    137\u001b[0m                             \u001b[0mstr\u001b[0m\u001b[0;34m(\u001b[0m\u001b[0mshape\u001b[0m\u001b[0;34m)\u001b[0m \u001b[0;34m+\u001b[0m \u001b[0;34m' but got array with shape '\u001b[0m \u001b[0;34m+\u001b[0m\u001b[0;34m\u001b[0m\u001b[0;34m\u001b[0m\u001b[0m\n\u001b[0;32m--> 138\u001b[0;31m                             str(data_shape))\n\u001b[0m\u001b[1;32m    139\u001b[0m     \u001b[0;32mreturn\u001b[0m \u001b[0mdata\u001b[0m\u001b[0;34m\u001b[0m\u001b[0;34m\u001b[0m\u001b[0m\n\u001b[1;32m    140\u001b[0m \u001b[0;34m\u001b[0m\u001b[0m\n",
            "\u001b[0;31mValueError\u001b[0m: Error when checking input: expected dense_8_input to have shape (2,) but got array with shape (784,)"
          ]
        }
      ]
    },
    {
      "cell_type": "code",
      "metadata": {
        "id": "zZlttdj4DuQ8",
        "colab_type": "code",
        "colab": {}
      },
      "source": [
        ""
      ],
      "execution_count": 0,
      "outputs": []
    }
  ]
}